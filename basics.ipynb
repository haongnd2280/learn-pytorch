{
 "cells": [
  {
   "cell_type": "code",
   "execution_count": 2,
   "metadata": {},
   "outputs": [
    {
     "name": "stdout",
     "output_type": "stream",
     "text": [
      "torch.Size([3, 4, 5])\n",
      "3\n",
      "4\n"
     ]
    }
   ],
   "source": [
    "import torch\n",
    "\n",
    "t = torch.ones(3, 4, 5)\n",
    "print(t.size())\n",
    "print(t.size(dim=0))\n",
    "print(t.size(dim=1))"
   ]
  },
  {
   "cell_type": "code",
   "execution_count": 3,
   "metadata": {},
   "outputs": [
    {
     "data": {
      "text/plain": [
       "5"
      ]
     },
     "execution_count": 3,
     "metadata": {},
     "output_type": "execute_result"
    }
   ],
   "source": [
    "max((5,))"
   ]
  },
  {
   "cell_type": "code",
   "execution_count": 4,
   "metadata": {},
   "outputs": [
    {
     "name": "stdout",
     "output_type": "stream",
     "text": [
      "tensor([1, 2, 3, 4, 5])\n",
      "torch.return_types.topk(\n",
      "values=tensor([5, 4, 3]),\n",
      "indices=tensor([4, 3, 2]))\n",
      "tensor([5, 4, 3])\n",
      "tensor([4, 3, 2])\n"
     ]
    }
   ],
   "source": [
    "x = torch.arange(1, 6)\n",
    "\n",
    "print(x)\n",
    "print(x.topk(3))                 # return 3 largest values (sorted) and their indices   => return namedtuple (values, indices)\n",
    "print(x.topk(3).values)       \n",
    "print(x.topk(3).indices)"
   ]
  },
  {
   "cell_type": "code",
   "execution_count": 5,
   "metadata": {},
   "outputs": [
    {
     "name": "stdout",
     "output_type": "stream",
     "text": [
      "torch.return_types.topk(\n",
      "values=tensor([5, 4, 3]),\n",
      "indices=tensor([4, 3, 2]))\n",
      "torch.return_types.topk(\n",
      "values=tensor([5, 4, 3]),\n",
      "indices=tensor([4, 3, 2]))\n",
      "torch.return_types.topk(\n",
      "values=tensor([5, 4, 3]),\n",
      "indices=tensor([4, 3, 2]))\n",
      "torch.return_types.topk(\n",
      "values=tensor([5, 4, 3]),\n",
      "indices=tensor([4, 3, 2]))\n"
     ]
    }
   ],
   "source": [
    "print(x.topk(3))               # latest dim is chosen if not specified\n",
    "print(x.topk(3, 0))            # specify dim\n",
    "print(x.topk(3, 0, True, True))   \n",
    "print(x.topk(3, dim=0, largest=True, sorted=True))   # verbose mode for above "
   ]
  },
  {
   "cell_type": "code",
   "execution_count": 6,
   "metadata": {},
   "outputs": [],
   "source": [
    "# Input: (batch_size, channels, height, width) => (N, C, H, W)\n",
    "# Ouput: (batch_size, score per class)"
   ]
  },
  {
   "cell_type": "code",
   "execution_count": 7,
   "metadata": {},
   "outputs": [
    {
     "name": "stdout",
     "output_type": "stream",
     "text": [
      "tensor([4, 3, 2])\n"
     ]
    }
   ],
   "source": [
    "_, pred = x.topk(3, 0, True, True)      # first value is score, second value is class index\n",
    "print(pred)"
   ]
  },
  {
   "cell_type": "code",
   "execution_count": 26,
   "metadata": {},
   "outputs": [
    {
     "name": "stdout",
     "output_type": "stream",
     "text": [
      "tensor([[ 0,  1,  2,  3,  4,  5,  6,  7,  8,  9],\n",
      "        [10, 11, 12, 13, 14, 15, 16, 17, 18, 19]])\n",
      "tensor([[9, 8, 7, 6, 5],\n",
      "        [9, 8, 7, 6, 5]])\n"
     ]
    }
   ],
   "source": [
    "x = torch.arange(20).reshape(2, 10)\n",
    "print(x)\n",
    "\n",
    "_, pred = x.topk(5, 1, True, True)    # top value on the 1 axis (per row)\n",
    "print(pred)"
   ]
  },
  {
   "cell_type": "code",
   "execution_count": 27,
   "metadata": {},
   "outputs": [
    {
     "data": {
      "text/plain": [
       "tensor([[9, 9],\n",
       "        [8, 8],\n",
       "        [7, 7],\n",
       "        [6, 6],\n",
       "        [5, 5]])"
      ]
     },
     "execution_count": 27,
     "metadata": {},
     "output_type": "execute_result"
    }
   ],
   "source": [
    "pred.t()"
   ]
  },
  {
   "cell_type": "code",
   "execution_count": 28,
   "metadata": {},
   "outputs": [
    {
     "name": "stdout",
     "output_type": "stream",
     "text": [
      "tensor([0, 1])\n"
     ]
    },
    {
     "data": {
      "text/plain": [
       "tensor([[0, 1]])"
      ]
     },
     "execution_count": 28,
     "metadata": {},
     "output_type": "execute_result"
    }
   ],
   "source": [
    "target = torch.arange(2)\n",
    "print(target)\n",
    "\n",
    "target.view(1, -1)    # Expand 1D to 2D tensor with only one row"
   ]
  },
  {
   "cell_type": "code",
   "execution_count": 29,
   "metadata": {},
   "outputs": [
    {
     "name": "stdout",
     "output_type": "stream",
     "text": [
      "tensor([[0, 1],\n",
      "        [0, 1],\n",
      "        [0, 1],\n",
      "        [0, 1],\n",
      "        [0, 1]])\n",
      "tensor([[False, False],\n",
      "        [False, False],\n",
      "        [False, False],\n",
      "        [False, False],\n",
      "        [False, False]])\n"
     ]
    }
   ],
   "source": [
    "pred = pred.t()\n",
    "target = target.view(1, -1).expand_as(pred)\n",
    "print(target)\n",
    "\n",
    "correct = pred.eq(target)      # compare values element-wise\n",
    "print(correct)"
   ]
  },
  {
   "cell_type": "code",
   "execution_count": 32,
   "metadata": {},
   "outputs": [
    {
     "name": "stdout",
     "output_type": "stream",
     "text": [
      "tensor([[9, 8, 7, 6, 5],\n",
      "        [9, 8, 7, 6, 5]])\n",
      "tensor([0, 1])\n",
      "tensor([[0, 0, 0, 0, 0],\n",
      "        [1, 1, 1, 1, 1]])\n",
      "tensor([[False, False, False, False, False],\n",
      "        [False, False, False, False, False]])\n"
     ]
    }
   ],
   "source": [
    "# The second way that does not require transpose\n",
    "x = torch.arange(20).reshape(2, 10)\n",
    "_, pred = x.topk(5, 1, True, True)    # top value on the 1 axis (per row)\n",
    "print(pred)\n",
    "\n",
    "target = torch.arange(2)\n",
    "print(target)\n",
    "\n",
    "target = target.view(2, -1).expand_as(pred)\n",
    "print(target)\n",
    "\n",
    "correct = pred.eq(target)\n",
    "print(correct)"
   ]
  },
  {
   "cell_type": "code",
   "execution_count": 33,
   "metadata": {},
   "outputs": [
    {
     "name": "stdout",
     "output_type": "stream",
     "text": [
      "1\n",
      "2\n"
     ]
    }
   ],
   "source": [
    "topk = (1, 2,)\n",
    "for k in topk:\n",
    "    print(k)"
   ]
  },
  {
   "cell_type": "code",
   "execution_count": 21,
   "metadata": {},
   "outputs": [
    {
     "name": "stdout",
     "output_type": "stream",
     "text": [
      "tensor([[0, 1, 2, 3, 4]])\n"
     ]
    },
    {
     "data": {
      "text/plain": [
       "tensor([0, 1, 2, 3, 4])"
      ]
     },
     "execution_count": 21,
     "metadata": {},
     "output_type": "execute_result"
    }
   ],
   "source": [
    "target = torch.arange(5).reshape(1, 5)  # 2D tensor\n",
    "print(target)\n",
    "\n",
    "target.view(-1)   # convert to 1D tensor"
   ]
  },
  {
   "cell_type": "code",
   "execution_count": 22,
   "metadata": {},
   "outputs": [
    {
     "data": {
      "text/plain": [
       "tensor([[0, 1, 2, 3, 4]])"
      ]
     },
     "execution_count": 22,
     "metadata": {},
     "output_type": "execute_result"
    }
   ],
   "source": [
    "target.clone()"
   ]
  },
  {
   "cell_type": "code",
   "execution_count": 74,
   "metadata": {},
   "outputs": [
    {
     "name": "stdout",
     "output_type": "stream",
     "text": [
      "tensor([[False, False],\n",
      "        [False, False],\n",
      "        [False, False],\n",
      "        [False, False],\n",
      "        [False, False]])\n",
      "tensor([0.])\n",
      "tensor([0.])\n",
      "tensor([0.])\n"
     ]
    }
   ],
   "source": [
    "topk = (1, 3, 5)\n",
    "maxk = max(topk)\n",
    "\n",
    "x = torch.arange(20).reshape(2, 10)\n",
    "target = torch.arange(2)\n",
    "batch_size = x.size(0)\n",
    "\n",
    "_, pred = x.topk(maxk, 1, True, True)\n",
    "pred = pred.t()\n",
    "correct = pred.eq(target.view(1, -1).expand_as(pred))\n",
    "print(correct)\n",
    "\n",
    "res = []\n",
    "for k in topk:\n",
    "    correct_k = correct[:k].contiguous().view(-1).float().sum(0, keepdim=True)     # why need view(-1)???\n",
    "    acc_k = correct_k.mul(100.0 / batch_size)\n",
    "    print(acc_k)\n",
    "    res.append(acc_k)"
   ]
  },
  {
   "cell_type": "code",
   "execution_count": 54,
   "metadata": {},
   "outputs": [
    {
     "name": "stdout",
     "output_type": "stream",
     "text": [
      "tensor([[0, 1, 2, 3, 4],\n",
      "        [5, 6, 7, 8, 9]])\n",
      "tensor(45)\n",
      "tensor([ 5,  7,  9, 11, 13])\n",
      "tensor([10, 35])\n",
      "tensor([[ 5,  7,  9, 11, 13]])\n"
     ]
    }
   ],
   "source": [
    "x = torch.arange(10).reshape(2, 5)\n",
    "print(x)\n",
    "\n",
    "print(x.sum())\n",
    "print(x.sum(0))     # sum each column\n",
    "print(x.sum(1))     # sum each row \n",
    "print(x.sum(0, keepdim=True))"
   ]
  },
  {
   "cell_type": "code",
   "execution_count": 57,
   "metadata": {},
   "outputs": [
    {
     "name": "stdout",
     "output_type": "stream",
     "text": [
      "tensor([[0, 1, 2, 3, 4],\n",
      "        [5, 6, 7, 8, 9]])\n",
      "tensor([0, 1, 2, 3, 4, 5, 6, 7, 8, 9])\n"
     ]
    }
   ],
   "source": [
    "x = torch.arange(10).reshape(2, 5)\n",
    "print(x)\n",
    "\n",
    "x = x.view(-1)     # flatten the tensor \n",
    "print(x)"
   ]
  },
  {
   "cell_type": "code",
   "execution_count": 67,
   "metadata": {},
   "outputs": [
    {
     "name": "stdout",
     "output_type": "stream",
     "text": [
      "tensor([[False,  True],\n",
      "        [ True, False],\n",
      "        [False,  True]])\n",
      "tensor([False,  True,  True, False, False,  True])\n"
     ]
    }
   ],
   "source": [
    "x = torch.tensor([[False, True], \n",
    "                  [True, False], \n",
    "                  [False, True]])\n",
    "\n",
    "print(x)\n",
    "print(x.view(-1))"
   ]
  },
  {
   "cell_type": "code",
   "execution_count": 68,
   "metadata": {},
   "outputs": [
    {
     "name": "stdout",
     "output_type": "stream",
     "text": [
      "tensor([[False,  True],\n",
      "        [ True, False]])\n",
      "tensor([False,  True,  True, False])\n"
     ]
    }
   ],
   "source": [
    "print(x[:2])\n",
    "print(x[:2].view(-1))"
   ]
  },
  {
   "cell_type": "code",
   "execution_count": 78,
   "metadata": {},
   "outputs": [
    {
     "name": "stdout",
     "output_type": "stream",
     "text": [
      "tensor([[ 0,  1,  2,  3],\n",
      "        [ 4,  5,  6,  7],\n",
      "        [ 8,  9, 10, 11]])\n",
      "tensor([[0, 1, 2, 3],\n",
      "        [4, 5, 6, 7]])\n",
      "tensor([[0, 1],\n",
      "        [4, 5],\n",
      "        [8, 9]])\n"
     ]
    }
   ],
   "source": [
    "x = torch.arange(12).reshape(3, 4)   \n",
    "print(x)\n",
    "\n",
    "print(x.narrow(dim=0, start=0, length=2))     # a narrow / truncated version of x along column dimension\n",
    "print(x.narrow(dim=1, start=0, length=2))     # \n",
    "\n",
    "# Nhận xét: narrow giống slicing nhưng khác ở chỗ là nó chỉ truncate theo một chiều thôi "
   ]
  },
  {
   "cell_type": "code",
   "execution_count": 79,
   "metadata": {},
   "outputs": [
    {
     "data": {
      "text/plain": [
       "tensor([[ 1,  2],\n",
       "        [ 5,  6],\n",
       "        [ 9, 10]])"
      ]
     },
     "execution_count": 79,
     "metadata": {},
     "output_type": "execute_result"
    }
   ],
   "source": [
    "x.narrow(1, 1, 2)"
   ]
  },
  {
   "cell_type": "code",
   "execution_count": 80,
   "metadata": {},
   "outputs": [
    {
     "data": {
      "text/plain": [
       "1.0"
      ]
     },
     "execution_count": 80,
     "metadata": {},
     "output_type": "execute_result"
    }
   ],
   "source": [
    "x = torch.tensor([1.0])    # (only work for 1-element tensor) return a 1-element tensor to standard Python number\n",
    "x.item()"
   ]
  },
  {
   "cell_type": "code",
   "execution_count": null,
   "metadata": {},
   "outputs": [],
   "source": []
  }
 ],
 "metadata": {
  "kernelspec": {
   "display_name": "Python 3",
   "language": "python",
   "name": "python3"
  },
  "language_info": {
   "codemirror_mode": {
    "name": "ipython",
    "version": 3
   },
   "file_extension": ".py",
   "mimetype": "text/x-python",
   "name": "python",
   "nbconvert_exporter": "python",
   "pygments_lexer": "ipython3",
   "version": "3.8.10"
  },
  "orig_nbformat": 4
 },
 "nbformat": 4,
 "nbformat_minor": 2
}
