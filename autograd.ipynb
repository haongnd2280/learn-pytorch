{
 "cells": [
  {
   "cell_type": "code",
   "execution_count": 25,
   "metadata": {},
   "outputs": [],
   "source": [
    "import torch \n",
    "from torch.autograd import Variable"
   ]
  },
  {
   "cell_type": "code",
   "execution_count": 26,
   "metadata": {},
   "outputs": [
    {
     "name": "stdout",
     "output_type": "stream",
     "text": [
      "tensor([155., 104.], grad_fn=<AddBackward0>)\n"
     ]
    }
   ],
   "source": [
    "a = Variable(torch.tensor([5., 4.]), requires_grad=True)\n",
    "b = Variable(torch.tensor([6., 8.]))\n",
    "\n",
    "y = a**3 + 5 * b        # forward pass: y = f(a, b)\n",
    "print(y)"
   ]
  },
  {
   "cell_type": "code",
   "execution_count": 27,
   "metadata": {},
   "outputs": [
    {
     "name": "stdout",
     "output_type": "stream",
     "text": [
      "tensor(129.5000, grad_fn=<MeanBackward0>)\n"
     ]
    }
   ],
   "source": [
    "print(y.mean())"
   ]
  },
  {
   "cell_type": "code",
   "execution_count": 28,
   "metadata": {},
   "outputs": [
    {
     "name": "stdout",
     "output_type": "stream",
     "text": [
      "tensor([37.5000, 24.0000])\n",
      "None\n"
     ]
    }
   ],
   "source": [
    "z = y.mean()      # grad can be implicitly created only for scalar outputs => need to convert y to scalar\n",
    "z.backward()\n",
    "\n",
    "# dz/da = 1/2 * 3*a^2 = a = [3/2 * 5.^2, 3/2 * 4.^2]\n",
    "# dz/db = 1/2 * 5 * [1, 1] = [5/2, 5/2] if set gradient = True\n",
    "\n",
    "print(a.grad)     # giá trị đạo hàm của hàm z theo biến a\n",
    "print(b.grad)     # b has no gradient; 5/2 if set gradient equals True "
   ]
  },
  {
   "cell_type": "code",
   "execution_count": 33,
   "metadata": {},
   "outputs": [
    {
     "name": "stdout",
     "output_type": "stream",
     "text": [
      "tensor([[2.7089]], grad_fn=<AddBackward0>)\n",
      "tensor([[3.5603]], grad_fn=<PowBackward0>)\n",
      "tensor([[ 5.6172],\n",
      "        [-0.8816],\n",
      "        [ 4.2334],\n",
      "        [-3.7615],\n",
      "        [ 2.4110],\n",
      "        [ 7.3217],\n",
      "        [ 1.7600],\n",
      "        [ 1.3792],\n",
      "        [-0.6335],\n",
      "        [ 3.9105]])\n",
      "tensor([3.7737])\n",
      "tensor([3.7737])\n",
      "tensor([[ 1.1141],\n",
      "        [-0.8696],\n",
      "        [-0.0973],\n",
      "        [ 0.3311],\n",
      "        [-0.2771],\n",
      "        [-0.0194],\n",
      "        [ 0.2335],\n",
      "        [-0.4242],\n",
      "        [ 0.6443],\n",
      "        [ 0.2801]])\n"
     ]
    }
   ],
   "source": [
    "# Linear Regression\n",
    "x = Variable(torch.randn(1, 10), requires_grad=False)    # observed values (deterministic) shape (1, 10)\n",
    "W = Variable(torch.randn(10, 1), requires_grad=True)     # weight matrix                   shape (10, 1)\n",
    "b = Variable(torch.randn(1), requires_grad=True)         # bias vector (set random)\n",
    "y = Variable(torch.tensor([[0.822]]))\n",
    "\n",
    "# x and y are fixed, need to find W and b through backpropagation\n",
    "\n",
    "y_pred = torch.matmul(x, W) + b    # shape (1, 1)\n",
    "print(y_pred)\n",
    "\n",
    "loss = (y_pred - y).pow(2)\n",
    "print(loss)\n",
    "\n",
    "# Compute gradient\n",
    "loss.backward()\n",
    "print(W.grad)\n",
    "print(b.grad)\n",
    "print(b.grad.data)\n",
    "\n",
    "lr = 0.001\n",
    "# Update the weight matrix after backpropagation\n",
    "with torch.no_grad():\n",
    "    W = W - lr * W.grad.data\n",
    "print(W)\n"
   ]
  },
  {
   "cell_type": "code",
   "execution_count": null,
   "metadata": {},
   "outputs": [],
   "source": []
  },
  {
   "cell_type": "code",
   "execution_count": null,
   "metadata": {},
   "outputs": [],
   "source": []
  },
  {
   "cell_type": "code",
   "execution_count": null,
   "metadata": {},
   "outputs": [],
   "source": []
  }
 ],
 "metadata": {
  "kernelspec": {
   "display_name": "venv_torch",
   "language": "python",
   "name": "python3"
  },
  "language_info": {
   "codemirror_mode": {
    "name": "ipython",
    "version": 3
   },
   "file_extension": ".py",
   "mimetype": "text/x-python",
   "name": "python",
   "nbconvert_exporter": "python",
   "pygments_lexer": "ipython3",
   "version": "3.11.2"
  }
 },
 "nbformat": 4,
 "nbformat_minor": 2
}
